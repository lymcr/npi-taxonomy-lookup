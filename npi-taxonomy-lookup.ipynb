{
 "cells": [
  {
   "cell_type": "code",
   "execution_count": 1,
   "id": "2fa34254",
   "metadata": {},
   "outputs": [
    {
     "ename": "KeyboardInterrupt",
     "evalue": "Interrupted by user",
     "output_type": "error",
     "traceback": [
      "\u001b[0;31m---------------------------------------------------------------------------\u001b[0m",
      "\u001b[0;31mKeyboardInterrupt\u001b[0m                         Traceback (most recent call last)",
      "Cell \u001b[0;32mIn[1], line 10\u001b[0m\n\u001b[1;32m      7\u001b[0m \u001b[38;5;28;01mimport\u001b[39;00m \u001b[38;5;21;01mpandas\u001b[39;00m \u001b[38;5;28;01mas\u001b[39;00m \u001b[38;5;21;01mpd\u001b[39;00m\n\u001b[1;32m      9\u001b[0m \u001b[38;5;66;03m# Read the file with the NPI data\u001b[39;00m\n\u001b[0;32m---> 10\u001b[0m input_prompt \u001b[38;5;241m=\u001b[39m \u001b[38;5;28;43minput\u001b[39;49m\u001b[43m(\u001b[49m\u001b[38;5;124;43m\"\u001b[39;49m\u001b[38;5;124;43mEnter the raw file path: \u001b[39;49m\u001b[38;5;124;43m\"\u001b[39;49m\u001b[43m)\u001b[49m\n\u001b[1;32m     11\u001b[0m df \u001b[38;5;241m=\u001b[39m pd\u001b[38;5;241m.\u001b[39mread_csv(input_prompt)\n\u001b[1;32m     13\u001b[0m \u001b[38;5;66;03m# Write NPIs into a list - 'NPI number': col name for NPI\u001b[39;00m\n",
      "File \u001b[0;32m~/Library/Python/3.9/lib/python/site-packages/ipykernel/kernelbase.py:1191\u001b[0m, in \u001b[0;36mKernel.raw_input\u001b[0;34m(self, prompt)\u001b[0m\n\u001b[1;32m   1189\u001b[0m     msg \u001b[38;5;241m=\u001b[39m \u001b[38;5;124m\"\u001b[39m\u001b[38;5;124mraw_input was called, but this frontend does not support input requests.\u001b[39m\u001b[38;5;124m\"\u001b[39m\n\u001b[1;32m   1190\u001b[0m     \u001b[38;5;28;01mraise\u001b[39;00m StdinNotImplementedError(msg)\n\u001b[0;32m-> 1191\u001b[0m \u001b[38;5;28;01mreturn\u001b[39;00m \u001b[38;5;28;43mself\u001b[39;49m\u001b[38;5;241;43m.\u001b[39;49m\u001b[43m_input_request\u001b[49m\u001b[43m(\u001b[49m\n\u001b[1;32m   1192\u001b[0m \u001b[43m    \u001b[49m\u001b[38;5;28;43mstr\u001b[39;49m\u001b[43m(\u001b[49m\u001b[43mprompt\u001b[49m\u001b[43m)\u001b[49m\u001b[43m,\u001b[49m\n\u001b[1;32m   1193\u001b[0m \u001b[43m    \u001b[49m\u001b[38;5;28;43mself\u001b[39;49m\u001b[38;5;241;43m.\u001b[39;49m\u001b[43m_parent_ident\u001b[49m\u001b[43m[\u001b[49m\u001b[38;5;124;43m\"\u001b[39;49m\u001b[38;5;124;43mshell\u001b[39;49m\u001b[38;5;124;43m\"\u001b[39;49m\u001b[43m]\u001b[49m\u001b[43m,\u001b[49m\n\u001b[1;32m   1194\u001b[0m \u001b[43m    \u001b[49m\u001b[38;5;28;43mself\u001b[39;49m\u001b[38;5;241;43m.\u001b[39;49m\u001b[43mget_parent\u001b[49m\u001b[43m(\u001b[49m\u001b[38;5;124;43m\"\u001b[39;49m\u001b[38;5;124;43mshell\u001b[39;49m\u001b[38;5;124;43m\"\u001b[39;49m\u001b[43m)\u001b[49m\u001b[43m,\u001b[49m\n\u001b[1;32m   1195\u001b[0m \u001b[43m    \u001b[49m\u001b[43mpassword\u001b[49m\u001b[38;5;241;43m=\u001b[39;49m\u001b[38;5;28;43;01mFalse\u001b[39;49;00m\u001b[43m,\u001b[49m\n\u001b[1;32m   1196\u001b[0m \u001b[43m\u001b[49m\u001b[43m)\u001b[49m\n",
      "File \u001b[0;32m~/Library/Python/3.9/lib/python/site-packages/ipykernel/kernelbase.py:1234\u001b[0m, in \u001b[0;36mKernel._input_request\u001b[0;34m(self, prompt, ident, parent, password)\u001b[0m\n\u001b[1;32m   1231\u001b[0m \u001b[38;5;28;01mexcept\u001b[39;00m \u001b[38;5;167;01mKeyboardInterrupt\u001b[39;00m:\n\u001b[1;32m   1232\u001b[0m     \u001b[38;5;66;03m# re-raise KeyboardInterrupt, to truncate traceback\u001b[39;00m\n\u001b[1;32m   1233\u001b[0m     msg \u001b[38;5;241m=\u001b[39m \u001b[38;5;124m\"\u001b[39m\u001b[38;5;124mInterrupted by user\u001b[39m\u001b[38;5;124m\"\u001b[39m\n\u001b[0;32m-> 1234\u001b[0m     \u001b[38;5;28;01mraise\u001b[39;00m \u001b[38;5;167;01mKeyboardInterrupt\u001b[39;00m(msg) \u001b[38;5;28;01mfrom\u001b[39;00m \u001b[38;5;28mNone\u001b[39m\n\u001b[1;32m   1235\u001b[0m \u001b[38;5;28;01mexcept\u001b[39;00m \u001b[38;5;167;01mException\u001b[39;00m:\n\u001b[1;32m   1236\u001b[0m     \u001b[38;5;28mself\u001b[39m\u001b[38;5;241m.\u001b[39mlog\u001b[38;5;241m.\u001b[39mwarning(\u001b[38;5;124m\"\u001b[39m\u001b[38;5;124mInvalid Message:\u001b[39m\u001b[38;5;124m\"\u001b[39m, exc_info\u001b[38;5;241m=\u001b[39m\u001b[38;5;28;01mTrue\u001b[39;00m)\n",
      "\u001b[0;31mKeyboardInterrupt\u001b[0m: Interrupted by user"
     ]
    }
   ],
   "source": [
    "import requests\n",
    "import json\n",
    "import pandas as pd\n",
    "import numpy as np\n",
    "from flatten_json import flatten\n",
    "\n",
    "import pandas as pd\n",
    "\n",
    "# Read the file with the NPI data\n",
    "input_prompt = input(\"Enter the raw file path: \")\n",
    "df = pd.read_csv(input_prompt)\n",
    "\n",
    "# Write NPIs into a list - 'NPI number': col name for NPI\n",
    "npi_list = df['NPI number'].tolist()\n",
    "# Convert the NPI list to string\n",
    "npi_list = [str(i) for i in npi_list]\n",
    "# API string from NPPES\n",
    "api = 'https://npiregistry.cms.hhs.gov/api/?number=&enumeration_type=&taxonomy_description=&name_purpose=&first_name=&use_first_name_alias=&last_name=&organization_name=&address_purpose=&city=&state=&postal_code=&country_code=&limit=&skip=&pretty=&version=2.1'\n",
    "# Create lists to save to\n",
    "code_list = []\n",
    "taxonomy_list = []\n",
    "result_list = []\n",
    "primary_list = []\n",
    "# the index in the API string where NPI insert happens\n",
    "insert_index = 44\n",
    "\n",
    "# Loop thru NPI list\n",
    "for npi in npi_list:\n",
    "    # Use current NPI to make API string\n",
    "    new_api = api[:insert_index] + npi + api[insert_index:]\n",
    "    # pull request\n",
    "    r = requests.get(new_api)\n",
    "    # save result as json\n",
    "    result_json = r.json()\n",
    "    # check if the [taxonomies] stub in result has more than 1 values, if yes, go into the loop, if no, get [code] and [desc] from the first value\n",
    "    if len(result_json['results'][0]['taxonomies']) > 1:\n",
    "        # loop through the values\n",
    "        for i in range (len(result_json['results'][0]['taxonomies'])):\n",
    "            # under current [taxonomies] value, get [primary] value\n",
    "            primary = result_json['results'][0]['taxonomies'][i]['primary']\n",
    "            # if [primary] value is 'True', get the [code] and [desc] values, else pass\n",
    "            if primary:\n",
    "                code = result_json['results'][0]['taxonomies'][i]['code']\n",
    "                taxonomy = result_json['results'][0]['taxonomies'][i]['desc']\n",
    "                code_list.append(code)\n",
    "                taxonomy_list.append(taxonomy)\n",
    "                primary_list.append(primary)\n",
    "            else:\n",
    "                pass\n",
    "            \n",
    "    else: \n",
    "        primary = result_json['results'][0]['taxonomies'][0]['primary']\n",
    "        code = result_json['results'][0]['taxonomies'][0]['code']\n",
    "        taxonomy = result_json['results'][0]['taxonomies'][0]['desc']\n",
    "        code_list.append(code)\n",
    "        taxonomy_list.append(taxonomy)\n",
    "        primary_list.append(primary)\n",
    "\n",
    "# Make a new dataframe\n",
    "new_data = {'NPI': npi_list, 'Provider taxonomy': code_list, 'Specialty': taxonomy_list, 'Primary': primary_list}\n",
    "new_df = pd.DataFrame(data=new_data)\n",
    "\n",
    "# Write frame to csv\n",
    "output_prompt = input(\"Enter the output dir: \")\n",
    "output_filename = 'NPIlookup_result.csv'\n",
    "new_df.to_csv(output_prompt + output_filename)\n",
    "\n",
    "\n"
   ]
  },
  {
   "cell_type": "code",
   "execution_count": null,
   "id": "af45b848",
   "metadata": {},
   "outputs": [],
   "source": []
  },
  {
   "cell_type": "code",
   "execution_count": null,
   "id": "0a7c0892",
   "metadata": {},
   "outputs": [],
   "source": []
  }
 ],
 "metadata": {
  "kernelspec": {
   "display_name": "Python 3 (ipykernel)",
   "language": "python",
   "name": "python3"
  },
  "language_info": {
   "codemirror_mode": {
    "name": "ipython",
    "version": 3
   },
   "file_extension": ".py",
   "mimetype": "text/x-python",
   "name": "python",
   "nbconvert_exporter": "python",
   "pygments_lexer": "ipython3",
   "version": "3.9.6"
  }
 },
 "nbformat": 4,
 "nbformat_minor": 5
}
