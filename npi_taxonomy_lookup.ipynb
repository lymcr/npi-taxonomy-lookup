{
 "cells": [
  {
   "cell_type": "code",
   "execution_count": 41,
   "id": "2fa34254",
   "metadata": {},
   "outputs": [
    {
     "ename": "TypeError",
     "evalue": "can only concatenate str (not \"int\") to str",
     "output_type": "error",
     "traceback": [
      "\u001b[0;31m---------------------------------------------------------------------------\u001b[0m",
      "\u001b[0;31mTypeError\u001b[0m                                 Traceback (most recent call last)",
      "Cell \u001b[0;32mIn[41], line 24\u001b[0m\n\u001b[1;32m     20\u001b[0m insert_index \u001b[38;5;241m=\u001b[39m \u001b[38;5;241m44\u001b[39m\n\u001b[1;32m     23\u001b[0m \u001b[38;5;28;01mfor\u001b[39;00m npi \u001b[38;5;129;01min\u001b[39;00m npi_list:\n\u001b[0;32m---> 24\u001b[0m     new_api \u001b[38;5;241m=\u001b[39m \u001b[43mapi\u001b[49m\u001b[43m[\u001b[49m\u001b[43m:\u001b[49m\u001b[43minsert_index\u001b[49m\u001b[43m]\u001b[49m\u001b[43m \u001b[49m\u001b[38;5;241;43m+\u001b[39;49m\u001b[43m \u001b[49m\u001b[43mnpi\u001b[49m \u001b[38;5;241m+\u001b[39m api[insert_index:]\n\u001b[1;32m     25\u001b[0m     r \u001b[38;5;241m=\u001b[39m requests\u001b[38;5;241m.\u001b[39mget(new_api)\n\u001b[1;32m     26\u001b[0m     result_json \u001b[38;5;241m=\u001b[39m r\u001b[38;5;241m.\u001b[39mjson()\n",
      "\u001b[0;31mTypeError\u001b[0m: can only concatenate str (not \"int\") to str"
     ]
    }
   ],
   "source": [
    "import requests\n",
    "import json\n",
    "import pandas as pd\n",
    "import numpy as np\n",
    "from flatten_json import flatten\n",
    "\n",
    "import pandas as pd\n",
    "\n",
    "# Read the file with the NPI data\n",
    "filename = '/Users/lymcr/Desktop/Book1.csv' # Replace with your CSV file name\n",
    "df = pd.read_csv(filename)\n",
    "\n",
    "# Write NPIs into a list\n",
    "npi_list = df['NPI number'].tolist()\n",
    "# Convert the NPI list to string\n",
    "npi_list = [str(i) for i in npi_list]\n",
    "# API string for request\n",
    "api = 'https://npiregistry.cms.hhs.gov/api/?number=&enumeration_type=&taxonomy_description=&name_purpose=&first_name=&use_first_name_alias=&last_name=&organization_name=&address_purpose=&city=&state=&postal_code=&country_code=&limit=&skip=&pretty=&version=2.1'\n",
    "# Bunch of lists to save to\n",
    "code_list = []\n",
    "taxonomy_list = []\n",
    "result_list = []\n",
    "primary_list = []\n",
    "# the index in the API string where NPI insert happens\n",
    "insert_index = 44\n",
    "\n",
    "# Loop thru NPI list\n",
    "for npi in npi_list:\n",
    "    # Use current NPI to make API string\n",
    "    new_api = api[:insert_index] + npi + api[insert_index:]\n",
    "    # pull request\n",
    "    r = requests.get(new_api)\n",
    "    # save result as json\n",
    "    result_json = r.json()\n",
    "    # check if the [taxonomies] stub in result has more than 1 values, if yes, go into the loop, if no, get [code] and [desc] from the first value\n",
    "    if len(result_json['results'][0]['taxonomies']) > 1:\n",
    "        # loop through the values\n",
    "        for i in range (len(result_json['results'][0]['taxonomies'])):\n",
    "            # under current [taxonomies] value, get [primary] value\n",
    "            primary = result_json['results'][0]['taxonomies'][i]['primary']\n",
    "            # if [primary] value is 'True', get the [code] and [desc] values, else pass\n",
    "            if primary:\n",
    "                code = result_json['results'][0]['taxonomies'][i]['code']\n",
    "                taxonomy = result_json['results'][0]['taxonomies'][i]['desc']\n",
    "                code_list.append(code)\n",
    "                taxonomy_list.append(taxonomy)\n",
    "                primary_list.append(primary)\n",
    "            else:\n",
    "                pass\n",
    "            \n",
    "    else: \n",
    "        primary = result_json['results'][0]['taxonomies'][0]['primary']\n",
    "        code = result_json['results'][0]['taxonomies'][0]['code']\n",
    "        taxonomy = result_json['results'][0]['taxonomies'][0]['desc']\n",
    "        code_list.append(code)\n",
    "        taxonomy_list.append(taxonomy)\n",
    "        primary_list.append(primary)\n",
    "\n",
    "# Make a new dataframe\n",
    "new_data = {'NPI': npi_list, 'Provider taxonomy': code_list, 'Specialty': taxonomy_list, 'Primary': primary_list}\n",
    "new_df = pd.DataFrame(data=new_data)\n",
    "\n",
    "# Write frame to csv\n",
    "new_df.to_csv('/Users/lymcr/Desktop/new_NPI_Export.csv')\n",
    "\n",
    "\n"
   ]
  },
  {
   "cell_type": "code",
   "execution_count": null,
   "id": "af45b848",
   "metadata": {},
   "outputs": [],
   "source": []
  }
 ],
 "metadata": {
  "kernelspec": {
   "display_name": "Python 3 (ipykernel)",
   "language": "python",
   "name": "python3"
  },
  "language_info": {
   "codemirror_mode": {
    "name": "ipython",
    "version": 3
   },
   "file_extension": ".py",
   "mimetype": "text/x-python",
   "name": "python",
   "nbconvert_exporter": "python",
   "pygments_lexer": "ipython3",
   "version": "3.9.6"
  }
 },
 "nbformat": 4,
 "nbformat_minor": 5
}
